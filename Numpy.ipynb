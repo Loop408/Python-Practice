{
 "cells": [
  {
   "cell_type": "markdown",
   "id": "8e3799b1-7d40-4bc8-9966-b80c70114037",
   "metadata": {},
   "source": [
    "# NumPy\n",
    "\n",
    "NumPy is a Linear Algebra library in Python and it is the holy grail and the main building block of Data Science using python, rely on NumPy as one of their main building blocks.\n",
    "\n",
    "It is bound to several C Libraries which makes NumPy one of the fastest Libraries in Python.\n",
    "\n",
    "We will learn the basics of NumPy, to get started we need to install it!"
   ]
  },
  {
   "cell_type": "code",
   "execution_count": 1,
   "id": "ebee44b3-f3c6-429c-b81c-21d9d9a25e43",
   "metadata": {},
   "outputs": [
    {
     "name": "stdout",
     "output_type": "stream",
     "text": [
      "Requirement already satisfied: numpy in c:\\users\\spocy\\anaconda3\\lib\\site-packages (2.1.3)\n",
      "Note: you may need to restart the kernel to use updated packages.\n"
     ]
    }
   ],
   "source": [
    "pip install numpy"
   ]
  },
  {
   "cell_type": "code",
   "execution_count": null,
   "id": "accabad4-e7b3-4bc1-8397-0da97996bd8c",
   "metadata": {},
   "outputs": [],
   "source": [
    "import numpy as np"
   ]
  },
  {
   "cell_type": "code",
   "execution_count": 3,
   "id": "6f495c48-d161-434f-b4b7-9c33c5c60971",
   "metadata": {},
   "outputs": [
    {
     "data": {
      "text/plain": [
       "array([1, 2, 3, 4, 5])"
      ]
     },
     "execution_count": 3,
     "metadata": {},
     "output_type": "execute_result"
    }
   ],
   "source": [
    "arr1 = np.array([1,2,3,4,5])\n",
    "arr1"
   ]
  },
  {
   "cell_type": "code",
   "execution_count": 4,
   "id": "893640a7-388e-4731-9929-c07a89fc7c99",
   "metadata": {},
   "outputs": [
    {
     "data": {
      "text/plain": [
       "array([1, 2, 3, 4, 5])"
      ]
     },
     "execution_count": 4,
     "metadata": {},
     "output_type": "execute_result"
    }
   ],
   "source": [
    "arr1"
   ]
  },
  {
   "cell_type": "code",
   "execution_count": 5,
   "id": "08384b26-1901-41e9-a925-4523f38674da",
   "metadata": {},
   "outputs": [
    {
     "data": {
      "text/plain": [
       "numpy.ndarray"
      ]
     },
     "execution_count": 5,
     "metadata": {},
     "output_type": "execute_result"
    }
   ],
   "source": [
    "type(arr1)"
   ]
  },
  {
   "cell_type": "code",
   "execution_count": 6,
   "id": "fb07b9e2-0aef-45d2-9564-d201c3062f42",
   "metadata": {},
   "outputs": [
    {
     "data": {
      "text/plain": [
       "1"
      ]
     },
     "execution_count": 6,
     "metadata": {},
     "output_type": "execute_result"
    }
   ],
   "source": [
    "arr1.ndim"
   ]
  },
  {
   "cell_type": "code",
   "execution_count": 7,
   "id": "8e7ebf43-33b8-40fa-befb-8c89b7d4b782",
   "metadata": {},
   "outputs": [
    {
     "data": {
      "text/plain": [
       "5"
      ]
     },
     "execution_count": 7,
     "metadata": {},
     "output_type": "execute_result"
    }
   ],
   "source": [
    "arr1.size"
   ]
  },
  {
   "cell_type": "code",
   "execution_count": 8,
   "id": "b26d5acd-0ab1-4d2a-9eac-84e3972aa33a",
   "metadata": {},
   "outputs": [
    {
     "data": {
      "text/plain": [
       "(5,)"
      ]
     },
     "execution_count": 8,
     "metadata": {},
     "output_type": "execute_result"
    }
   ],
   "source": [
    "arr1.shape"
   ]
  },
  {
   "cell_type": "code",
   "execution_count": 9,
   "id": "253abbd6-d262-4925-a7ec-f79fe17e6239",
   "metadata": {},
   "outputs": [
    {
     "data": {
      "text/plain": [
       "[[1, 2, 5, 3], [5.9, 4, 5, 3], [9, 10, 11, 12]]"
      ]
     },
     "execution_count": 9,
     "metadata": {},
     "output_type": "execute_result"
    }
   ],
   "source": [
    "m = [[1,2,5,3],[5.9,4,5,3],[9,10,11,12]]\n",
    "m"
   ]
  },
  {
   "cell_type": "code",
   "execution_count": 10,
   "id": "c38f0a6e-5cab-4e4f-be06-14a0d4db4cde",
   "metadata": {},
   "outputs": [
    {
     "data": {
      "text/plain": [
       "array([[ 1. ,  2. ,  5. ,  3. ],\n",
       "       [ 5.9,  4. ,  5. ,  3. ],\n",
       "       [ 9. , 10. , 11. , 12. ]])"
      ]
     },
     "execution_count": 10,
     "metadata": {},
     "output_type": "execute_result"
    }
   ],
   "source": [
    "b=np.array(m)\n",
    "b"
   ]
  },
  {
   "cell_type": "code",
   "execution_count": 16,
   "id": "f045c63d-1639-47d4-a2e0-5a9b211ae5e3",
   "metadata": {},
   "outputs": [
    {
     "name": "stdout",
     "output_type": "stream",
     "text": [
      "The dimension of array 2\n"
     ]
    }
   ],
   "source": [
    "print(\"The dimension of array\",b.ndim)"
   ]
  },
  {
   "cell_type": "code",
   "execution_count": 18,
   "id": "fa0395ba-c072-4c53-8cce-ad996ca2bdf6",
   "metadata": {},
   "outputs": [
    {
     "name": "stdout",
     "output_type": "stream",
     "text": [
      "The size of array 12\n"
     ]
    }
   ],
   "source": [
    "print(\"The size of array\",b.size)"
   ]
  },
  {
   "cell_type": "code",
   "execution_count": 19,
   "id": "f45f179c-900d-40c6-8b28-592e1f2cd168",
   "metadata": {
    "scrolled": true
   },
   "outputs": [
    {
     "name": "stdout",
     "output_type": "stream",
     "text": [
      "The shape of array (3, 4)\n"
     ]
    }
   ],
   "source": [
    "print(\"The shape of array\",b.shape)"
   ]
  },
  {
   "cell_type": "code",
   "execution_count": 24,
   "id": "7d700bd1-5f86-46ac-b3ed-744d2b66e35e",
   "metadata": {},
   "outputs": [],
   "source": [
    "import numpy as np\n",
    "int8_arr = np.array([1,2,3],dtype = np.int8)\n",
    "int16_arr = np.array([1000,-2000,3000],dtype=np.int16)\n",
    "int32_arr = np.array([-100000,200000,300000],dtype=np.int32)\n",
    "int64_arr = np.array([100000000,200000000],dtype=np.int64)"
   ]
  },
  {
   "cell_type": "code",
   "execution_count": null,
   "id": "dd84fe3c-8e8c-4937-88b1-554b94557b8d",
   "metadata": {},
   "outputs": [],
   "source": [
    "#unsigned integers\n",
    "uint8_arr = np.array([0,233,100],dtype=np.uint8)\n",
    "uint16_arr = np.array([1000,60000],dtype=np.uint16)"
   ]
  },
  {
   "cell_type": "code",
   "execution_count": null,
   "id": "afcd39e6-c9d4-4533-beca-4e68fe42e5e9",
   "metadata": {},
   "outputs": [],
   "source": [
    "#float types\n",
    "float16_arr = np.array([1.1,-2.2,3.3],dtype=np.float16)\n",
    "float32_arr = np.array([1.123456,2.654321],dtype=np.float32)\n",
    "float64_arr = np.array([1.23456789,-2.987654321],dtype=np.float64)"
   ]
  },
  {
   "cell_type": "code",
   "execution_count": null,
   "id": "735dfcc8-68de-4f26-8951-986c6da872e3",
   "metadata": {},
   "outputs": [],
   "source": [
    "#complex types\n",
    "complex64_arr = np.array([1+2j,3+4j],dtype=np.complex64)\n",
    "complex128_arr = np.array([1+2j,3+4j],dtype=np.complex128)"
   ]
  },
  {
   "cell_type": "code",
   "execution_count": 28,
   "id": "ef6c82de-1f01-4227-8765-d58bc3d871d7",
   "metadata": {},
   "outputs": [
    {
     "name": "stdout",
     "output_type": "stream",
     "text": [
      "bool: [ True False  True] bool\n",
      "----------------------------------------\n"
     ]
    }
   ],
   "source": [
    "# Boolean type\n",
    "bool_arr = np.array([True, False, True],dtype=bool)\n",
    "print(\"bool:\",bool_arr, bool_arr.dtype)\n",
    "print(\"-\" * 40 )"
   ]
  },
  {
   "cell_type": "code",
   "execution_count": 31,
   "id": "2d9de95b-8a03-4c66-b142-935f6a252853",
   "metadata": {},
   "outputs": [],
   "source": [
    "# string type\n",
    "string_arr = np.array([\"apple\", \"banana\", \"cherry\"], dtype='U10')"
   ]
  },
  {
   "cell_type": "code",
   "execution_count": 30,
   "id": "2366a7b0-cc35-46f4-ab77-e7ed8b3de3b4",
   "metadata": {},
   "outputs": [],
   "source": [
    "# object type\n",
    "object_arr = np.array([1, \"two\", 3.0, True], dtype=object)"
   ]
  },
  {
   "cell_type": "code",
   "execution_count": null,
   "id": "d5d162b5-432b-43cb-b623-00440d0eedf5",
   "metadata": {},
   "outputs": [],
   "source": []
  }
 ],
 "metadata": {
  "kernelspec": {
   "display_name": "Python 3 (ipykernel)",
   "language": "python",
   "name": "python3"
  },
  "language_info": {
   "codemirror_mode": {
    "name": "ipython",
    "version": 3
   },
   "file_extension": ".py",
   "mimetype": "text/x-python",
   "name": "python",
   "nbconvert_exporter": "python",
   "pygments_lexer": "ipython3",
   "version": "3.13.5"
  }
 },
 "nbformat": 4,
 "nbformat_minor": 5
}
